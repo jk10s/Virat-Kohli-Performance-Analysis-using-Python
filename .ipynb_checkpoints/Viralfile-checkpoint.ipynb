{
 "cells": [
  {
   "cell_type": "code",
   "execution_count": 2,
   "id": "f4c9d5a7",
   "metadata": {},
   "outputs": [
    {
     "name": "stdout",
     "output_type": "stream",
     "text": [
      "   Runs  BF  4s  6s     SR  Pos Dismissal  Inns   Opposition         Ground  \\\n",
      "0    12  22   1   0  54.54  2.0       lbw     1  v Sri Lanka       Dambulla   \n",
      "1    37  67   6   0  55.22  2.0    caught     2  v Sri Lanka       Dambulla   \n",
      "2    25  38   4   0  65.78  1.0   run out     1  v Sri Lanka  Colombo (RPS)   \n",
      "3    54  66   7   0  81.81  1.0    bowled     1  v Sri Lanka  Colombo (RPS)   \n",
      "4    31  46   3   1  67.39  1.0       lbw     2  v Sri Lanka  Colombo (RPS)   \n",
      "\n",
      "  Start Date  \n",
      "0  18-Aug-08  \n",
      "1  20-Aug-08  \n",
      "2  24-Aug-08  \n",
      "3  27-Aug-08  \n",
      "4  29-Aug-08  \n"
     ]
    }
   ],
   "source": [
    "import pandas as pd\n",
    "import numpy as np\n",
    "import plotly.express as px\n",
    "import plotly.graph_objects as go\n",
    "\n",
    "data = pd.read_csv(\"Virat_Kohli_1.csv\")\n",
    "print(data.head())"
   ]
  },
  {
   "cell_type": "code",
   "execution_count": 3,
   "id": "69022491",
   "metadata": {},
   "outputs": [
    {
     "name": "stdout",
     "output_type": "stream",
     "text": [
      "Runs          0\n",
      "BF            0\n",
      "4s            0\n",
      "6s            0\n",
      "SR            0\n",
      "Pos           0\n",
      "Dismissal     0\n",
      "Inns          0\n",
      "Opposition    0\n",
      "Ground        0\n",
      "Start Date    0\n",
      "dtype: int64\n"
     ]
    }
   ],
   "source": [
    "print(data.isnull().sum())"
   ]
  },
  {
   "cell_type": "code",
   "execution_count": 4,
   "id": "3f581a74",
   "metadata": {},
   "outputs": [
    {
     "data": {
      "text/plain": [
       "6184"
      ]
     },
     "execution_count": 4,
     "metadata": {},
     "output_type": "execute_result"
    }
   ],
   "source": [
    "data[\"Runs\"].sum()"
   ]
  },
  {
   "cell_type": "code",
   "execution_count": null,
   "id": "7c9f8853",
   "metadata": {},
   "outputs": [],
   "source": []
  }
 ],
 "metadata": {
  "kernelspec": {
   "display_name": "Python 3 (ipykernel)",
   "language": "python",
   "name": "python3"
  },
  "language_info": {
   "codemirror_mode": {
    "name": "ipython",
    "version": 3
   },
   "file_extension": ".py",
   "mimetype": "text/x-python",
   "name": "python",
   "nbconvert_exporter": "python",
   "pygments_lexer": "ipython3",
   "version": "3.9.12"
  }
 },
 "nbformat": 4,
 "nbformat_minor": 5
}
